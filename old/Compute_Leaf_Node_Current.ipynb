{
 "cells": [
  {
   "cell_type": "markdown",
   "id": "71739fa2",
   "metadata": {},
   "source": [
    "This notebook shows how the wake-cycle current use was computed for the leaf node.\n",
    "\n",
    "To compute the current, an oscilloscpe was used to measure the voltage across a 2.2ohm resistor connected between the leaf node circuit ground and the power supply ground. The circuit was sampled and when a positive voltage read the data were stored for a 14 second time window. The sampling rate was 200kHz.\n",
    "\n",
    "James Gallagher <jgallagher@opendap.org>  9/5/21"
   ]
  },
  {
   "cell_type": "code",
   "execution_count": 9,
   "id": "28980667",
   "metadata": {},
   "outputs": [],
   "source": [
    "import numpy as np\n",
    "from scipy.signal import butter, sosfilt\n",
    "import plotly.graph_objects as go\n",
    "import plotly.express as px\n",
    "\n",
    "# use matploylib since the figures render in GitHub\n",
    "import matplotlib.pyplot as plt"
   ]
  },
  {
   "cell_type": "markdown",
   "id": "1cfed58a",
   "metadata": {},
   "source": [
    "### The raw data from the oscilloscpe\n",
    "![The raw data from the oscilloscpe](Current_measurement/LN_Current_13dBm_23dBm/23dBm.png)\n",
    "    "
   ]
  },
  {
   "cell_type": "markdown",
   "id": "1a9ee7f8",
   "metadata": {},
   "source": [
    "Read the data from the Siglent scope's csv file into a numpy array. The data are two columns, time and then voltage. Extract the voltages from the 2D array so they can be filtered.\n",
    "\n",
    "See https://numpy.org/doc/stable/reference/generated/numpy.genfromtxt.html for information about numpy genfromtxt() which reads data from CSV files.\n",
    "\n",
    "See https://www.tutorialspoint.com/numpy/numpy_indexing_and_slicing.htm for information about numpy slicing, which is used in several cells."
   ]
  },
  {
   "cell_type": "code",
   "execution_count": 10,
   "id": "7b53f59a",
   "metadata": {},
   "outputs": [],
   "source": [
    "# For the tests where the LoRa was transmitting at 13dBm\n",
    "# data_file = 'Current_measurement/LN_Current_13dBm_23dBm/13dBm_current.csv'\n",
    "\n",
    "# For the tests where the LoRa was transmitting at 23dBm\n",
    "data_file = 'Current_measurement/LN_Current_13dBm_23dBm/23dBm_current.csv'\n",
    "header_lines = 12\n",
    "data = np.genfromtxt(data_file, delimiter=',', skip_header=header_lines)\n",
    "\n",
    "# slice so we have only the voltage values. 'data_file' holds both the sample time\n",
    "# and the voltage as CSV data.\n",
    "offset = 0.0\n",
    "voltages = data[..., 1] + offset    # * 1000 / args.resistance\n"
   ]
  },
  {
   "cell_type": "markdown",
   "id": "94c6739c",
   "metadata": {},
   "source": [
    "Define a low-pass filter using the SciPy package"
   ]
  },
  {
   "cell_type": "code",
   "execution_count": 11,
   "id": "e36ccab6",
   "metadata": {},
   "outputs": [],
   "source": [
    "def butter_lowpass_filter(data, cutoff, fs, order):\n",
    "    \"\"\"\n",
    "    @param data The data to be filtered\n",
    "    @param cutoff The cutoff frequency in Hz\n",
    "    @param fs The sampling frequency\n",
    "    @param order The order of the filter\n",
    "    \"\"\"\n",
    "    nyq = 0.5 * fs  # Nyquist Frequency\n",
    "    normal_cutoff = cutoff / nyq\n",
    "    # Get the filter coefficients - second order sections\n",
    "    sos = butter(order, normal_cutoff, btype='low', analog=False, output='sos')\n",
    "    y = sosfilt(sos, data)\n",
    "    return y\n"
   ]
  },
  {
   "cell_type": "markdown",
   "id": "52054f3a",
   "metadata": {},
   "source": [
    "Now filter the voltages to remove the noise, then threshold the filtered values so that anything below some arbitrary value becomes zero. From the raw and filtered/thresholded voltages, compute the current.\n",
    "\n",
    "See https://stackoverflow.com/questions/12424824/how-i-can-i-conditionally-change-the-values-in-a-numpy-array-taking-into-account for information about the numpy relational op used to threshold the filtered_volts[] array."
   ]
  },
  {
   "cell_type": "code",
   "execution_count": 12,
   "id": "99262a39",
   "metadata": {},
   "outputs": [],
   "source": [
    "# Filter requirements.\n",
    "\n",
    "fs = 200000.0  # sample rate, Hz\n",
    "cutoff = 1000.0  # desired cutoff frequency of the filter, Hz\n",
    "order = 4 # I chose a fourth-order filter by experiment. Higher did not produce a better result.\n",
    "\n",
    "filtered_volts = butter_lowpass_filter(voltages, cutoff, fs, order)\n",
    "\n",
    "# Threshold post filtering.\n",
    "# y is derived from 'data' which is a numpy array, so this works to set\n",
    "# all the values of 'y' less than threshold_value to 0.0.\n",
    "threshold_value = 0.00015\n",
    "filtered_volts[filtered_volts < threshold_value] = 0.0\n",
    "\n",
    "resistance = 2.2 # ohms\n",
    "# multiply the current (A) by 1000 to get mA which makes for a better plot\n",
    "mA = voltages / resistance * 1000.0\n",
    "filtered_mA = filtered_volts / resistance * 1000.0"
   ]
  },
  {
   "cell_type": "markdown",
   "id": "2666994f",
   "metadata": {},
   "source": [
    "Now plot the filtered data. See https://plotly.com/python/line-and-scatter/ for information about plotly express."
   ]
  },
  {
   "cell_type": "code",
   "execution_count": 13,
   "id": "22094b28",
   "metadata": {},
   "outputs": [
    {
     "data": {
      "application/vnd.jupyter.widget-view+json": {
       "model_id": "a500c49fae124035bb10bd9a7e8eecc9",
       "version_major": 2,
       "version_minor": 0
      },
      "text/plain": [
       "Canvas(toolbar=Toolbar(toolitems=[('Home', 'Reset original view', 'home', 'home'), ('Back', 'Back to previous …"
      ]
     },
     "metadata": {},
     "output_type": "display_data"
    },
    {
     "data": {
      "text/plain": [
       "Text(0, 0.5, 'current (mA)')"
      ]
     },
     "execution_count": 13,
     "metadata": {},
     "output_type": "execute_result"
    }
   ],
   "source": [
    "%matplotlib widget\n",
    "\n",
    "fig, ax = plt.subplots()  # Create a figure containing a single axes.\n",
    "\n",
    "# x=data[::100, 0] Time\n",
    "# y=filtered_mA[::100] Current\n",
    "\n",
    "ax.plot(data[::100, 0], filtered_mA[::100])\n",
    "ax.set_title(\"Leaf Node Current Profile During the Wake State, LoRa Tx at 23dBm\")\n",
    "ax.set_xlabel(\"time (s)\")\n",
    "ax.set_ylabel(\"current (mA)\")"
   ]
  },
  {
   "cell_type": "markdown",
   "id": "9183c3be",
   "metadata": {},
   "source": [
    "# Use plotly express. Sample the time information (the first column of 'data') and the filtered \n",
    "# current values so only every 100th sample is plotted.\n",
    "\n",
    "# The color does not have to be specified, but I wondered how to do it...\n",
    "# and for the plot that follows, I wanted the filtered data to be the same \n",
    "# color there as well. jhrg\n",
    "\n",
    "fig1 = px.line(x=data[::100, 0],\n",
    "               y=filtered_mA[::100],\n",
    "               line_shape='linear',\n",
    "               color_discrete_sequence=['blue'],\n",
    "               title=\"Leaf Node Current Profile During the Wake State, LoRa Tx at 23dBm\")\n",
    "\n",
    "fig1.update_xaxes(title_text=\"time (s)\")\n",
    "fig1.update_yaxes(title_text=\"current (mA)\")\n",
    "\n",
    "fig1.show()\n",
    "\n",
    "# Uncomment this line to save the plot, hacking the name as needed.\n",
    "# fig1.write_image(\"Current_measurement/figures/fig1.png\")\n",
    "\n"
   ]
  },
  {
   "cell_type": "markdown",
   "id": "e6d99c04",
   "metadata": {},
   "source": [
    "Compare the filtered and raw current data, this time using a plotly Graphical Object using its Scatter() method. \n",
    "\n",
    "See https://plotly.com/python/graph-objects/ and \n",
    "https://plotly.com/python-api-reference/generated/plotly.graph_objects.Scatter.html"
   ]
  },
  {
   "cell_type": "code",
   "execution_count": 14,
   "id": "b7a95384",
   "metadata": {},
   "outputs": [
    {
     "data": {
      "application/vnd.jupyter.widget-view+json": {
       "model_id": "24bcef0c146a48d2be929b544a87a284",
       "version_major": 2,
       "version_minor": 0
      },
      "text/plain": [
       "Canvas(toolbar=Toolbar(toolitems=[('Home', 'Reset original view', 'home', 'home'), ('Back', 'Back to previous …"
      ]
     },
     "metadata": {},
     "output_type": "display_data"
    },
    {
     "data": {
      "text/plain": [
       "<matplotlib.legend.Legend at 0x150a0aa30>"
      ]
     },
     "execution_count": 14,
     "metadata": {},
     "output_type": "execute_result"
    }
   ],
   "source": [
    "%matplotlib widget\n",
    "\n",
    "fig, ax = plt.subplots()  # Create a figure containing a single axes.\n",
    "\n",
    "# x=data[::100, 0] Time\n",
    "# y=filtered_mA[::100] Current\n",
    "\n",
    "ax.plot(data[::100, 0], mA[::100], label='signal with noise')\n",
    "ax.plot(data[::100, 0], filtered_mA[::100], label='filtered signal')\n",
    "ax.set_title(\"Leaf node raw and filtered current use during the operating phase, LoRa Tx at 23dBm\")\n",
    "ax.set_xlabel(\"time (s)\")\n",
    "ax.set_ylabel(\"current (mA)\")\n",
    "ax.legend()\n"
   ]
  },
  {
   "cell_type": "markdown",
   "id": "48fa18a7",
   "metadata": {},
   "source": [
    "# for this, I used the starting time value (x0) and the delta (dx)\n",
    "\n",
    "dx = 0.000005 # Sample duration in seconds\n",
    "\n",
    "fig = go.Figure()\n",
    "\n",
    "fig.add_trace(go.Scatter(\n",
    "    x0=data[0, 0],\n",
    "    dx=dx * 100,  # Scale dx by 100 since we sample 'filtered_volts'\n",
    "    y=mA[::100],  # print every 100 values\n",
    "    line=dict(shape='spline',color='red'),\n",
    "    name='signal with noise',\n",
    "))\n",
    "\n",
    "fig.add_trace(go.Scatter(\n",
    "    x0=data[0, 0],\n",
    "    dx=dx * 100,\n",
    "    y=filtered_mA[::100],\n",
    "    line=dict(shape='spline',color='blue'),\n",
    "    name='filtered signal',\n",
    "))\n",
    "\n",
    "fig.update_xaxes(title_text=\"time (s)\")\n",
    "fig.update_yaxes(title_text=\"current (mA)\")\n",
    "\n",
    "fig.show(title=\"Leaf node raw and filtered current use during the operating phase\")"
   ]
  },
  {
   "cell_type": "markdown",
   "id": "7652a10a",
   "metadata": {},
   "source": [
    "Now that the current data looks good, compute the average current use for the wake-cycle time (which looks like about 4s - also compute the exact time)."
   ]
  },
  {
   "cell_type": "code",
   "execution_count": 15,
   "id": "366b835a",
   "metadata": {},
   "outputs": [],
   "source": [
    "def calc_values_from_filtered_data(data, zero_value, delta_t, resistance):\n",
    "    \"\"\"\n",
    "    @param data is corrected voltage for a time slice\n",
    "    @param zero_value is the value to call 'zero volts' FIXME Remove\n",
    "    @param delta_t is the duration of each sample\n",
    "    @param resistance Used to convert mV to mA\n",
    "    \"\"\"\n",
    "    volts_samples = 0.0\n",
    "    samples = 0\n",
    "    start_time = 0.0\n",
    "    end_time = 0.0\n",
    "    sample = 0\n",
    "\n",
    "    for volts in data:\n",
    "        if volts > zero_value:\n",
    "            if start_time == 0.0:\n",
    "                start_time = sample * delta_t\n",
    "            end_time = sample\n",
    "            samples += 1         # count the samples, divide once outside of loop\n",
    "            volts_samples += volts     # As above, factor out '* delta_t'\n",
    "        sample += 1\n",
    "\n",
    "    # Complete calculations and print the results\n",
    "    end_time *= delta_t\n",
    "    total_time = samples * delta_t\n",
    "    # volts_samples / samples: average voltage/sample; * delta_t is avg voltage/second\n",
    "    # delta_t is seconds/sample --> avg voltage / sample * delta_t is voltage/second\n",
    "    # voltage/second / resistance is  Amps/ econd; * 1000 --> mA/s\n",
    "    # mA/s * total_time is mAs\n",
    "    mAs = (volts_samples / samples) / resistance * 1000\n",
    "\n",
    "    print(f\"Sample start time: {start_time:.2f}s, end time: {end_time:.2f}s, total time awake: {total_time:.2f}s, mAs: {mAs:.0f}\\n\")\n",
    "\n"
   ]
  },
  {
   "cell_type": "markdown",
   "id": "d7d01a86",
   "metadata": {},
   "source": [
    "Calculate the total time the node was awake using the number of samples that were above the zero threshold and multiplying by the duration of a sample."
   ]
  },
  {
   "cell_type": "code",
   "execution_count": 16,
   "id": "91b2c2e1",
   "metadata": {},
   "outputs": [
    {
     "name": "stdout",
     "output_type": "stream",
     "text": [
      "Threshold value: 0.00015V\n"
     ]
    },
    {
     "ename": "NameError",
     "evalue": "name 'dx' is not defined",
     "output_type": "error",
     "traceback": [
      "\u001b[0;31m---------------------------------------------------------------------------\u001b[0m",
      "\u001b[0;31mNameError\u001b[0m                                 Traceback (most recent call last)",
      "\u001b[0;32m<ipython-input-16-1381aecbe944>\u001b[0m in \u001b[0;36m<module>\u001b[0;34m\u001b[0m\n\u001b[1;32m      2\u001b[0m \u001b[0;31m# The values are:\u001b[0m\u001b[0;34m\u001b[0m\u001b[0;34m\u001b[0m\u001b[0;34m\u001b[0m\u001b[0m\n\u001b[1;32m      3\u001b[0m \u001b[0mprint\u001b[0m\u001b[0;34m(\u001b[0m\u001b[0;34mf\"Threshold value: {threshold_value}V\"\u001b[0m\u001b[0;34m)\u001b[0m\u001b[0;34m\u001b[0m\u001b[0;34m\u001b[0m\u001b[0m\n\u001b[0;32m----> 4\u001b[0;31m \u001b[0mprint\u001b[0m\u001b[0;34m(\u001b[0m\u001b[0;34mf\"Delta X: {dx}s\"\u001b[0m\u001b[0;34m)\u001b[0m\u001b[0;34m\u001b[0m\u001b[0;34m\u001b[0m\u001b[0m\n\u001b[0m\u001b[1;32m      5\u001b[0m \u001b[0mprint\u001b[0m\u001b[0;34m(\u001b[0m\u001b[0;34mf\"Resistance: {resistance}ohms\"\u001b[0m\u001b[0;34m)\u001b[0m\u001b[0;34m\u001b[0m\u001b[0;34m\u001b[0m\u001b[0m\n\u001b[1;32m      6\u001b[0m \u001b[0;34m\u001b[0m\u001b[0m\n",
      "\u001b[0;31mNameError\u001b[0m: name 'dx' is not defined"
     ]
    }
   ],
   "source": [
    "# The values for these parameters are set in cells above, including the graphing cells.\n",
    "# The values are:\n",
    "print(f\"Threshold value: {threshold_value}V\")\n",
    "print(f\"Delta X: {dx}s\")\n",
    "print(f\"Resistance: {resistance}ohms\")\n",
    "\n",
    "calc_values_from_filtered_data(filtered_volts, threshold_value, dx, resistance)"
   ]
  },
  {
   "cell_type": "markdown",
   "id": "d94de96d",
   "metadata": {},
   "source": [
    "Battry life calculation\n",
    "\n",
    "The Leaf node has 2 2,400mAh batteries in parallel, providing 4,800mAh of charge.\n",
    "\n",
    "The duty cycle of the LN is 3600s, ~4s on (25mA) and 3596s sleeping (18.5µA)"
   ]
  },
  {
   "cell_type": "code",
   "execution_count": null,
   "id": "e2d1f4eb",
   "metadata": {},
   "outputs": [],
   "source": [
    "mA_duty_cycle = (25.0 * 4 + 18.5 * 0.000001 * 3596.0) / 3600.0"
   ]
  },
  {
   "cell_type": "code",
   "execution_count": null,
   "id": "4afb0a55",
   "metadata": {},
   "outputs": [],
   "source": [
    "battery_life = 4800.0 / mA_duty_cycle\n",
    "\n",
    "hours_per_year = 365 * 24\n",
    "\n",
    "print(f\"Battery life: {battery_life:.0f}h, or {battery_life / hours_per_year:.1f} years\")"
   ]
  },
  {
   "cell_type": "code",
   "execution_count": null,
   "id": "c19da6e7",
   "metadata": {},
   "outputs": [],
   "source": [
    "%matplotlib widget\n",
    "\n",
    "fig, ax = plt.subplots()  # Create a figure containing a single axes.\n",
    "\n",
    "# x=data[::100, 0] Time\n",
    "# y=filtered_mA[::100] Current\n",
    "\n",
    "ax.plot(data[::100, 0], filtered_mA[::100])\n",
    "ax.set_title(\"Leaf Node Current Profile During the Wake State, LoRa Tx at 23dBm\")\n",
    "ax.set_xlabel(\"time (s)\")\n",
    "ax.set_ylabel(\"current (mA)\")"
   ]
  },
  {
   "cell_type": "code",
   "execution_count": null,
   "id": "a127d583",
   "metadata": {},
   "outputs": [],
   "source": []
  }
 ],
 "metadata": {
  "kernelspec": {
   "display_name": "Python (opendap)",
   "language": "python",
   "name": "opendap"
  },
  "language_info": {
   "codemirror_mode": {
    "name": "ipython",
    "version": 3
   },
   "file_extension": ".py",
   "mimetype": "text/x-python",
   "name": "python",
   "nbconvert_exporter": "python",
   "pygments_lexer": "ipython3",
   "version": "3.9.2"
  }
 },
 "nbformat": 4,
 "nbformat_minor": 5
}
